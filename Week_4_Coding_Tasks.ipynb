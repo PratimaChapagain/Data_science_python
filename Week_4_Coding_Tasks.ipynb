{
 "cells": [
  {
   "cell_type": "markdown",
   "metadata": {},
   "source": [
    "## Week 4 Coding Tasks"
   ]
  },
  {
   "cell_type": "code",
   "execution_count": null,
   "metadata": {},
   "outputs": [],
   "source": [
    "import pandas as pd\n",
    "import matplotlib.pyplot as plt\n",
    "import seaborn as sns\n",
    "import geopandas as gpd"
   ]
  },
  {
   "cell_type": "markdown",
   "metadata": {},
   "source": [
    "Taking the code from the past two weeks."
   ]
  },
  {
   "cell_type": "code",
   "execution_count": null,
   "metadata": {},
   "outputs": [],
   "source": [
    "physicians = pd.read_csv('../data/primary_care_physicians.csv')\n",
    "\n",
    "physicians = physicians[physicians['state'] == 'Tennessee']\n",
    "\n",
    "population = pd.read_csv('../data/population_by_county.csv')\n",
    "\n",
    "physicians = pd.merge(left = physicians[['FIPS', 'county', 'primary_care_physicians']],\n",
    "        right = population[['FIPS', 'population', 'urban']])\n",
    "\n",
    "physicians['residents_per_pcp'] = physicians['population'] / physicians['primary_care_physicians']\n",
    "\n",
    "physicians.loc[physicians['residents_per_pcp'] < 1500, 'shadac_category'] = 'adequate'\n",
    "physicians.loc[(physicians['residents_per_pcp'] >= 1500) & \n",
    "       (physicians['residents_per_pcp'] < 3500), 'shadac_category'] = 'moderately inadequate'\n",
    "physicians.loc[(physicians['residents_per_pcp'] >= 3500), 'shadac_category'] = 'low inadequate'\n",
    "\n",
    "unemployment = pd.read_csv('../data/tn_unemployment.csv')\n",
    "\n",
    "unemployment['Name'] = unemployment['Name'].str.split(' County', expand = True).loc[:,0]\n",
    "\n",
    "physicians = pd.merge(left = physicians,\n",
    "        right = unemployment[['Name', 'unemployment_rate']].rename(columns = {'Name': 'county'}))\n",
    "\n",
    "physicians['pcp_per_100k'] = physicians['primary_care_physicians'] / physicians['population'] * 100000"
   ]
  },
  {
   "cell_type": "code",
   "execution_count": null,
   "metadata": {},
   "outputs": [],
   "source": [
    "counties = gpd.read_file('../data/county/tncounty.shp')"
   ]
  },
  {
   "cell_type": "code",
   "execution_count": null,
   "metadata": {},
   "outputs": [],
   "source": [
    "counties.head(2)"
   ]
  },
  {
   "cell_type": "code",
   "execution_count": null,
   "metadata": {},
   "outputs": [],
   "source": [
    "physicians.head(2)"
   ]
  },
  {
   "cell_type": "code",
   "execution_count": null,
   "metadata": {},
   "outputs": [],
   "source": [
    "counties = pd.merge(left = counties,\n",
    "        right = physicians.rename(columns = {'county': 'NAME'}))"
   ]
  },
  {
   "cell_type": "markdown",
   "metadata": {},
   "source": [
    " Coding tasks:\n",
    "  1. Create a choropleth showing the unemployment rate per county for each Tennessee county."
   ]
  },
  {
   "cell_type": "code",
   "execution_count": null,
   "metadata": {},
   "outputs": [],
   "source": [
    "fig, ax = plt.subplots(figsize=(16,4))\n",
    "\n",
    "counties.plot(column = 'unemployment_rate', \n",
    "              edgecolor = 'black', \n",
    "              legend = True,\n",
    "              cmap = 'Blues',\n",
    "              scheme=\"NaturalBreaks\",\n",
    "              ax = ax)\n",
    "\n",
    "# Position the legend\n",
    "leg = ax.get_legend()\n",
    "leg.set_bbox_to_anchor((1, 0.5))\n",
    "\n",
    "# Add a title\n",
    "plt.title('Unemployment Rate by County, 2018', fontsize = 18)\n",
    "\n",
    "ax.axis('off');"
   ]
  },
  {
   "cell_type": "markdown",
   "metadata": {},
   "source": [
    "More advanced manipulation of the legend."
   ]
  },
  {
   "cell_type": "code",
   "execution_count": null,
   "metadata": {},
   "outputs": [],
   "source": [
    "from matplotlib.lines import Line2D\n",
    "\n",
    "fig, ax = plt.subplots(figsize=(16,4))\n",
    "\n",
    "counties.plot(column = 'unemployment_rate', \n",
    "              edgecolor = 'black', \n",
    "              legend = True,\n",
    "              cmap = 'Blues',\n",
    "              scheme=\"NaturalBreaks\",\n",
    "              ax = ax)\n",
    "\n",
    "# Position the legend\n",
    "leg = ax.get_legend()\n",
    "leg.set_bbox_to_anchor((1, 0.5))\n",
    "\n",
    "# Add a title\n",
    "plt.title('Unemployment Rate by County, 2018', fontsize = 18)\n",
    "\n",
    "ax.axis('off')\n",
    "\n",
    "leg = ax.get_legend()\n",
    "\n",
    "# ADVANCED: Adjusting format of legend\n",
    "labels = []\n",
    "n = len(leg.get_texts())\n",
    "for i, lbl in enumerate(leg.get_texts()):\n",
    "    label_text = lbl.get_text()\n",
    "    lower = float(label_text.split()[0][:-1])\n",
    "    upper = float(label_text.split()[1][:-1])\n",
    "    if i == 0:\n",
    "        new_text = \"Below \" + \"{:,.2f}\".format(upper + .01)\n",
    "    elif i == n - 1:\n",
    "        new_text = \"Above \" + \"{:,.2f}\".format(lower)\n",
    "    else:\n",
    "        new_text = \"{:,.2f}\".format(lower + .01) + \" - \" + \"{:,.2f}\".format(upper)\n",
    "        \n",
    "    labels.append(new_text)\n",
    "    \n",
    "markers = []\n",
    "for line in leg.get_lines():\n",
    "    marker = Line2D([0],[0], marker = 'o', \n",
    "                    markersize = line.get_markersize(), \n",
    "                    color = line.get_markerfacecolor(),\n",
    "                    linestyle = 'None',\n",
    "                    markeredgecolor = 'black',\n",
    "                    markeredgewidth = 1)\n",
    "    markers.append(marker)\n",
    "    \n",
    "plt.legend(markers, labels, fontsize = 12)\n",
    "leg = ax.get_legend()\n",
    "leg.set_bbox_to_anchor((1, 0.5));"
   ]
  },
  {
   "cell_type": "markdown",
   "metadata": {},
   "source": [
    "  2. Create a choropleth showing the SHADAC category for each county (adequate, low inadequate, and moderately inadequate)."
   ]
  },
  {
   "cell_type": "code",
   "execution_count": null,
   "metadata": {},
   "outputs": [],
   "source": [
    "fig, ax = plt.subplots(figsize=(16,4))\n",
    "\n",
    "counties.plot(column = 'shadac_category', \n",
    "              edgecolor = 'black', \n",
    "              legend = True,\n",
    "              ax = ax)\n",
    "\n",
    "# Position the legend\n",
    "leg = ax.get_legend()\n",
    "leg.set_bbox_to_anchor((1, 0.5))\n",
    "\n",
    "# Add a title\n",
    "plt.title('SHADAC Category by County, 2018', fontsize = 18)\n",
    "\n",
    "ax.axis('off');"
   ]
  },
  {
   "cell_type": "markdown",
   "metadata": {},
   "source": [
    "Warning: Tricky Code\n",
    "\n",
    "Ordering the categories here is much harder, but can be pulled off following https://stackoverflow.com/questions/54370302/changing-the-order-of-entries-for-a-geopandas-choropleth-map-legend:"
   ]
  },
  {
   "cell_type": "code",
   "execution_count": null,
   "metadata": {},
   "outputs": [],
   "source": [
    "shad_to_int = {'adequate': 1,\n",
    "               'moderately inadequate': 2,\n",
    "               'low inadequate': 3}\n",
    "\n",
    "int_to_shad = {'1': 'adequate',\n",
    "               '2': 'moderately inadequate',\n",
    "               '3': 'low inadequate'}\n",
    "\n",
    "counties['shadac_num'] = counties['shadac_category'].map(shad_to_int)\n",
    "\n",
    "fig, ax = plt.subplots(figsize=(16,4))\n",
    "\n",
    "counties.plot(column = 'shadac_num',\n",
    "              categorical = True,\n",
    "              edgecolor = 'black', \n",
    "              legend = True,\n",
    "              ax = ax)\n",
    "\n",
    "# Position the legend\n",
    "leg = ax.get_legend()\n",
    "for txt in leg.get_texts():\n",
    "    txt.set_text(int_to_shad.get(txt.get_text()))\n",
    "\n",
    "leg.set_bbox_to_anchor((1, 0.5))\n",
    "\n",
    "# Add a title\n",
    "plt.title('SHADAC Category by County, 2018', fontsize = 18)\n",
    "\n",
    "ax.axis('off');"
   ]
  }
 ],
 "metadata": {
  "kernelspec": {
   "display_name": "Python 3",
   "language": "python",
   "name": "python3"
  },
  "language_info": {
   "codemirror_mode": {
    "name": "ipython",
    "version": 3
   },
   "file_extension": ".py",
   "mimetype": "text/x-python",
   "name": "python",
   "nbconvert_exporter": "python",
   "pygments_lexer": "ipython3",
   "version": "3.7.6"
  }
 },
 "nbformat": 4,
 "nbformat_minor": 5
}
